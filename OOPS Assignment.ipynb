{
 "cells": [
  {
   "cell_type": "markdown",
   "id": "e9908275-f82b-47cd-8ff3-907a6709b557",
   "metadata": {},
   "source": [
    "Q1. Explain Class and Object with respect to Object-Oriented Programming. Give a suitable example."
   ]
  },
  {
   "cell_type": "markdown",
   "id": "118e090e-1a3b-438b-8072-745708280170",
   "metadata": {},
   "source": [
    "Ans:- Class:- A class is a blueprint for creating objects."
   ]
  },
  {
   "cell_type": "markdown",
   "id": "605fa0a6-dd9e-496c-8476-bfb98e6c8617",
   "metadata": {},
   "source": [
    "Object:- An object is an instance of a class."
   ]
  },
  {
   "cell_type": "code",
   "execution_count": 1,
   "id": "9bd92126-d7e3-4811-b767-16ff5b8392f7",
   "metadata": {},
   "outputs": [],
   "source": [
    "class dipesh:\n",
    "    def welcome_msg(self):\n",
    "        print(\"welcome to class\")"
   ]
  },
  {
   "cell_type": "code",
   "execution_count": 4,
   "id": "8b5812df-c53d-40a1-ae7a-2865afe0b844",
   "metadata": {},
   "outputs": [],
   "source": [
    "chandrakant=dipesh()"
   ]
  },
  {
   "cell_type": "code",
   "execution_count": 5,
   "id": "2a727d36-27fa-4897-9285-c96aef17aced",
   "metadata": {},
   "outputs": [
    {
     "name": "stdout",
     "output_type": "stream",
     "text": [
      "welcome to class\n"
     ]
    }
   ],
   "source": [
    "chandrakant.welcome_msg()"
   ]
  },
  {
   "cell_type": "markdown",
   "id": "245b374e-4c78-4da5-843a-c800d7288b88",
   "metadata": {},
   "source": [
    "Q2. Name the four pillars of OOPs."
   ]
  },
  {
   "cell_type": "markdown",
   "id": "900cf1cb-d7ea-4e98-bc6c-6424939666cd",
   "metadata": {},
   "source": [
    "Ans:- 1) Abstraction\n",
    "      2) Encapsulation\n",
    "      3) Polymorphism\n",
    "      4) Inheritance"
   ]
  },
  {
   "cell_type": "markdown",
   "id": "3076836b-69b1-4cff-8b18-111040d33cc0",
   "metadata": {},
   "source": [
    "Q3. Explain why the __init__() function is used. Give a suitable example."
   ]
  },
  {
   "cell_type": "markdown",
   "id": "b86feef1-1f5f-4555-8c29-27f83c712775",
   "metadata": {},
   "source": [
    "Ans:- The __init__ function is called every time an object is created from a class. The __init__ method lets the class initialize the object's attributes and serves no other purpose. It is only used within classes."
   ]
  },
  {
   "cell_type": "code",
   "execution_count": 7,
   "id": "d79f19cb-af88-45e8-b513-9b13937d4364",
   "metadata": {},
   "outputs": [],
   "source": [
    "class dipesh1:\n",
    "    def __init__(self, phone_number, email_id, student_id):\n",
    "        self.phone_number=phone_number\n",
    "        self.email_id=email_id\n",
    "        self.student_id=student_id\n",
    "    \n",
    "    def return_student_details(self):\n",
    "        return self.phone_number,self.email_id,self.student_id"
   ]
  },
  {
   "cell_type": "code",
   "execution_count": 9,
   "id": "974484a8-0e6a-4a33-bb0c-4e2514ac2d7b",
   "metadata": {},
   "outputs": [],
   "source": [
    "chandrakant=dipesh1(7894561230,\"dipesh@gmail.com\",102)"
   ]
  },
  {
   "cell_type": "code",
   "execution_count": 10,
   "id": "2da576a7-0273-4c40-b3d1-f6c7aa65633d",
   "metadata": {},
   "outputs": [
    {
     "data": {
      "text/plain": [
       "7894561230"
      ]
     },
     "execution_count": 10,
     "metadata": {},
     "output_type": "execute_result"
    }
   ],
   "source": [
    "chandrakant.phone_number"
   ]
  },
  {
   "cell_type": "code",
   "execution_count": 11,
   "id": "02b1d42f-b54b-4b91-a37f-d04071f2d44a",
   "metadata": {},
   "outputs": [
    {
     "data": {
      "text/plain": [
       "102"
      ]
     },
     "execution_count": 11,
     "metadata": {},
     "output_type": "execute_result"
    }
   ],
   "source": [
    "chandrakant.student_id"
   ]
  },
  {
   "cell_type": "code",
   "execution_count": 12,
   "id": "c958d81b-a74a-4b91-a3e9-f196454f2ff6",
   "metadata": {},
   "outputs": [
    {
     "data": {
      "text/plain": [
       "'dipesh@gmail.com'"
      ]
     },
     "execution_count": 12,
     "metadata": {},
     "output_type": "execute_result"
    }
   ],
   "source": [
    "chandrakant.email_id"
   ]
  },
  {
   "cell_type": "code",
   "execution_count": 13,
   "id": "8c0fa1c1-fc99-4464-a430-fe54a81d55da",
   "metadata": {},
   "outputs": [
    {
     "data": {
      "text/plain": [
       "(7894561230, 'dipesh@gmail.com', 102)"
      ]
     },
     "execution_count": 13,
     "metadata": {},
     "output_type": "execute_result"
    }
   ],
   "source": [
    "chandrakant.return_student_details()"
   ]
  },
  {
   "cell_type": "markdown",
   "id": "32ca0f0d-9490-4c16-80c1-d9fb0ce55f0e",
   "metadata": {},
   "source": [
    "Q4. Why self is used in OOPs?"
   ]
  },
  {
   "cell_type": "markdown",
   "id": "9c4afa70-4cd8-41ff-982b-163717b7f66e",
   "metadata": {},
   "source": [
    "Ans:- Self represents the instance of the class. By using the “self” we can access the attributes and methods of the class in Python. "
   ]
  },
  {
   "cell_type": "markdown",
   "id": "55912e6b-e359-47d7-9265-1767ef67d1c5",
   "metadata": {},
   "source": [
    "Q5. What is inheritance? Give an example for each type of inheritance."
   ]
  },
  {
   "cell_type": "markdown",
   "id": "79c57db3-fc4a-4f52-b6b0-f375a569eb87",
   "metadata": {},
   "source": [
    "Inheritance allows us to define a class that inherits all the methods and properties from another class. "
   ]
  },
  {
   "cell_type": "code",
   "execution_count": 18,
   "id": "cd48fa8a-1a55-404a-9fc8-bc77fec81e20",
   "metadata": {},
   "outputs": [],
   "source": [
    "#single inheritance\n",
    "class parent:\n",
    "    def test_parent(self):\n",
    "        print(\"this is my parent class\")"
   ]
  },
  {
   "cell_type": "code",
   "execution_count": 19,
   "id": "077bb54f-99eb-4e23-8128-d71e0a976445",
   "metadata": {},
   "outputs": [],
   "source": [
    "class child(parent):\n",
    "    pass"
   ]
  },
  {
   "cell_type": "code",
   "execution_count": 20,
   "id": "00dbc740-94bd-4f12-97e6-a25df55ac2c9",
   "metadata": {},
   "outputs": [],
   "source": [
    "child_obj=child()"
   ]
  },
  {
   "cell_type": "code",
   "execution_count": 21,
   "id": "edc35ff2-e241-4874-9851-cfe7cee575e2",
   "metadata": {},
   "outputs": [
    {
     "name": "stdout",
     "output_type": "stream",
     "text": [
      "this is my parent class\n"
     ]
    }
   ],
   "source": [
    "child_obj.test_parent()"
   ]
  },
  {
   "cell_type": "code",
   "execution_count": 22,
   "id": "624ef098-87c1-464a-8e1e-b2a1c574a8ec",
   "metadata": {},
   "outputs": [],
   "source": [
    "#Multi Level inheritance\n",
    "class class1:\n",
    "    def test_class1(self):\n",
    "        print(\"This is my class1\")"
   ]
  },
  {
   "cell_type": "code",
   "execution_count": 23,
   "id": "0249b8c9-6342-4200-ac36-c7ccb39b80dd",
   "metadata": {},
   "outputs": [],
   "source": [
    "class class2(class1):\n",
    "    def test_class2(self):\n",
    "        print(\"This is my class2\")"
   ]
  },
  {
   "cell_type": "code",
   "execution_count": 24,
   "id": "dc6cfa2b-ea85-4099-ac66-bf716a23135b",
   "metadata": {},
   "outputs": [],
   "source": [
    "class class3(class2):\n",
    "    def test_class3(self):\n",
    "        print(\"This is my class3\")"
   ]
  },
  {
   "cell_type": "code",
   "execution_count": 25,
   "id": "39c3c6b5-fb41-4381-a363-826c37d37d12",
   "metadata": {},
   "outputs": [],
   "source": [
    "obj_class3=class3()"
   ]
  },
  {
   "cell_type": "code",
   "execution_count": 26,
   "id": "d9f62dde-e374-4005-a208-aa250134d71b",
   "metadata": {},
   "outputs": [
    {
     "name": "stdout",
     "output_type": "stream",
     "text": [
      "This is my class1\n"
     ]
    }
   ],
   "source": [
    "obj_class3.test_class1()"
   ]
  },
  {
   "cell_type": "code",
   "execution_count": 27,
   "id": "3342b4f4-7e03-41f6-80a3-de38faa8f56d",
   "metadata": {},
   "outputs": [
    {
     "name": "stdout",
     "output_type": "stream",
     "text": [
      "This is my class2\n"
     ]
    }
   ],
   "source": [
    "obj_class3.test_class2()"
   ]
  },
  {
   "cell_type": "code",
   "execution_count": 28,
   "id": "3bf0bc48-41a7-4467-b7e6-311ad32bcec9",
   "metadata": {},
   "outputs": [
    {
     "name": "stdout",
     "output_type": "stream",
     "text": [
      "This is my class3\n"
     ]
    }
   ],
   "source": [
    "obj_class3.test_class3()"
   ]
  },
  {
   "cell_type": "code",
   "execution_count": 30,
   "id": "15556864-8e74-476a-ae37-5f091214eea7",
   "metadata": {},
   "outputs": [],
   "source": [
    "#Multiple inheritance\n",
    "class class1:\n",
    "    def test_class1(self):\n",
    "        print(\"This is my class1\")"
   ]
  },
  {
   "cell_type": "code",
   "execution_count": 31,
   "id": "76a50eaf-a226-4ffa-be63-27b54217a8c9",
   "metadata": {},
   "outputs": [],
   "source": [
    "class class2:\n",
    "    def test_class2(s2lf):\n",
    "        print(\"This is my class2\")"
   ]
  },
  {
   "cell_type": "code",
   "execution_count": 33,
   "id": "04730d24-73c1-4910-bb63-6b0e6de10ec3",
   "metadata": {},
   "outputs": [],
   "source": [
    "class class3(class1,class2):\n",
    "    pass"
   ]
  },
  {
   "cell_type": "code",
   "execution_count": 34,
   "id": "664b9a05-f68a-4a2e-ad1d-c0fe8c6b5c50",
   "metadata": {},
   "outputs": [],
   "source": [
    "obj_class3=class3()"
   ]
  },
  {
   "cell_type": "code",
   "execution_count": 35,
   "id": "d08abff8-feca-4d15-a20b-ddbf3c2cc7c6",
   "metadata": {},
   "outputs": [
    {
     "name": "stdout",
     "output_type": "stream",
     "text": [
      "This is my class1\n"
     ]
    }
   ],
   "source": [
    "obj_class3.test_class1()"
   ]
  },
  {
   "cell_type": "code",
   "execution_count": 36,
   "id": "3cd8f7a0-f608-4ee2-add7-6831ce815ae2",
   "metadata": {},
   "outputs": [
    {
     "name": "stdout",
     "output_type": "stream",
     "text": [
      "This is my class2\n"
     ]
    }
   ],
   "source": [
    "obj_class3.test_class2()"
   ]
  }
 ],
 "metadata": {
  "kernelspec": {
   "display_name": "Python 3 (ipykernel)",
   "language": "python",
   "name": "python3"
  },
  "language_info": {
   "codemirror_mode": {
    "name": "ipython",
    "version": 3
   },
   "file_extension": ".py",
   "mimetype": "text/x-python",
   "name": "python",
   "nbconvert_exporter": "python",
   "pygments_lexer": "ipython3",
   "version": "3.10.8"
  }
 },
 "nbformat": 4,
 "nbformat_minor": 5
}
